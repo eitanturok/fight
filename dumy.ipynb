{
 "cells": [
  {
   "cell_type": "code",
   "execution_count": 1,
   "metadata": {},
   "outputs": [],
   "source": [
    "from battle import Pokemon, Attack"
   ]
  },
  {
   "cell_type": "code",
   "execution_count": null,
   "metadata": {},
   "outputs": [],
   "source": [
    "user_pokemon = Pokemon(\n",
    "    name=\"Sassy Saide\",\n",
    "    type=\"fire\",\n",
    "    hp=37,\n",
    "    description=\"A sassy saide. The sassiest of sadies.\"\n",
    "    attack1=Attack(accuracy=35, power=2, name=\"hit\", description=\"I will hit you bitch.\"),\n",
    "    attack2=Attack(accuracy=35, power=20, name=\"kill\", description=\"I will kill you bitch.\"),\n",
    "    attack3=Attack(accuracy=35, power=2, name=\"maim\", description=\"I will main you bitch.\")\n",
    ")"
   ]
  },
  {
   "cell_type": "code",
   "execution_count": null,
   "metadata": {},
   "outputs": [],
   "source": [
    "user_pokemon = Pokemon(\n",
    "    name=\"Berk who is the best at JS\",\n",
    "    type=\"AI-nerd at the flatiron\",\n",
    "    hp=37,\n",
    "    description=\"I love my plants.\"\n",
    "    attack1=Attack(accuracy=35, power=2, name=\"buisness-man\", description=\"I will sell da plants. Even though I love them.\"),\n",
    "    attack2=Attack(accuracy=35, power=20, name=\"caring about you\", description=\"I will care about you.\"),\n",
    "    attack3=Attack(accuracy=35, power=2, name=\"fraud\", description=\"I will def commit fraud.\")\n",
    ")"
   ]
  }
 ],
 "metadata": {
  "kernelspec": {
   "display_name": "spc",
   "language": "python",
   "name": "python3"
  },
  "language_info": {
   "codemirror_mode": {
    "name": "ipython",
    "version": 3
   },
   "file_extension": ".py",
   "mimetype": "text/x-python",
   "name": "python",
   "nbconvert_exporter": "python",
   "pygments_lexer": "ipython3",
   "version": "3.12.4"
  }
 },
 "nbformat": 4,
 "nbformat_minor": 2
}
